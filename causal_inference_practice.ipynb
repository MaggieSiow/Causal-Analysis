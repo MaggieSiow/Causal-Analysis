{
 "cells": [
  {
   "cell_type": "code",
   "execution_count": 1,
   "metadata": {},
   "outputs": [],
   "source": [
    "import pandas as pd"
   ]
  },
  {
   "cell_type": "code",
   "execution_count": 2,
   "metadata": {},
   "outputs": [
    {
     "name": "stderr",
     "output_type": "stream",
     "text": [
      "c:\\try_causal\\.venv\\lib\\site-packages\\tqdm\\auto.py:21: TqdmWarning: IProgress not found. Please update jupyter and ipywidgets. See https://ipywidgets.readthedocs.io/en/stable/user_install.html\n",
      "  from .autonotebook import tqdm as notebook_tqdm\n"
     ]
    }
   ],
   "source": [
    "import dowhy"
   ]
  },
  {
   "cell_type": "code",
   "execution_count": 3,
   "metadata": {},
   "outputs": [],
   "source": [
    "import graphviz"
   ]
  },
  {
   "cell_type": "code",
   "execution_count": 4,
   "metadata": {},
   "outputs": [],
   "source": [
    "import pygraphviz"
   ]
  },
  {
   "cell_type": "code",
   "execution_count": 5,
   "metadata": {},
   "outputs": [],
   "source": [
    "import matplotlib.pyplot as plt"
   ]
  },
  {
   "cell_type": "code",
   "execution_count": 6,
   "metadata": {},
   "outputs": [],
   "source": [
    "# Config dict to set the logging level\n",
    "import logging.config\n",
    "DEFAULT_LOGGING = {\n",
    "    'version': 1,\n",
    "    'disable_existing_loggers': False,\n",
    "    'loggers': {\n",
    "        '': {'level': 'INFO',\n",
    "        },\n",
    "        }\n",
    "}\n",
    "logging.config.dictConfig(DEFAULT_LOGGING)\n",
    "# Disabling warnings output\n",
    "import warnings\n",
    "from sklearn.exceptions import DataConversionWarning, ConvergenceWarning\n",
    "warnings.filterwarnings(action='ignore', category=DataConversionWarning)\n",
    "warnings.filterwarnings(action='ignore', category=ConvergenceWarning)\n",
    "warnings.filterwarnings(action='ignore', category=UserWarning)\n"
   ]
  },
  {
   "cell_type": "code",
   "execution_count": 7,
   "metadata": {},
   "outputs": [
    {
     "name": "stdout",
     "output_type": "stream",
     "text": [
      "          hotel  is_canceled  lead_time  arrival_date_year arrival_date_month  \\\n",
      "0  Resort Hotel            0        342               2015               July   \n",
      "1  Resort Hotel            0        737               2015               July   \n",
      "2  Resort Hotel            0          7               2015               July   \n",
      "3  Resort Hotel            0         13               2015               July   \n",
      "4  Resort Hotel            0         14               2015               July   \n",
      "\n",
      "   arrival_date_week_number  arrival_date_day_of_month  \\\n",
      "0                        27                          1   \n",
      "1                        27                          1   \n",
      "2                        27                          1   \n",
      "3                        27                          1   \n",
      "4                        27                          1   \n",
      "\n",
      "   stays_in_weekend_nights  stays_in_week_nights  adults  ...  deposit_type  \\\n",
      "0                        0                     0       2  ...    No Deposit   \n",
      "1                        0                     0       2  ...    No Deposit   \n",
      "2                        0                     1       1  ...    No Deposit   \n",
      "3                        0                     1       1  ...    No Deposit   \n",
      "4                        0                     2       2  ...    No Deposit   \n",
      "\n",
      "   agent company days_in_waiting_list customer_type   adr  \\\n",
      "0    NaN     NaN                    0     Transient   0.0   \n",
      "1    NaN     NaN                    0     Transient   0.0   \n",
      "2    NaN     NaN                    0     Transient  75.0   \n",
      "3  304.0     NaN                    0     Transient  75.0   \n",
      "4  240.0     NaN                    0     Transient  98.0   \n",
      "\n",
      "   required_car_parking_spaces  total_of_special_requests  reservation_status  \\\n",
      "0                            0                          0           Check-Out   \n",
      "1                            0                          0           Check-Out   \n",
      "2                            0                          0           Check-Out   \n",
      "3                            0                          0           Check-Out   \n",
      "4                            0                          1           Check-Out   \n",
      "\n",
      "  reservation_status_date  \n",
      "0              2015-07-01  \n",
      "1              2015-07-01  \n",
      "2              2015-07-02  \n",
      "3              2015-07-02  \n",
      "4              2015-07-03  \n",
      "\n",
      "[5 rows x 32 columns]\n",
      "(119390, 32)\n"
     ]
    }
   ],
   "source": [
    "dataset = pd.read_csv('./hotel.csv')\n",
    "print(dataset.head())\n",
    "print(dataset.shape)"
   ]
  },
  {
   "cell_type": "code",
   "execution_count": 8,
   "metadata": {},
   "outputs": [
    {
     "name": "stdout",
     "output_type": "stream",
     "text": [
      "Index(['hotel', 'is_canceled', 'lead_time', 'arrival_date_year',\n",
      "       'arrival_date_month', 'arrival_date_week_number',\n",
      "       'arrival_date_day_of_month', 'stays_in_weekend_nights',\n",
      "       'stays_in_week_nights', 'adults', 'children', 'babies', 'meal',\n",
      "       'country', 'market_segment', 'distribution_channel',\n",
      "       'is_repeated_guest', 'previous_cancellations',\n",
      "       'previous_bookings_not_canceled', 'reserved_room_type',\n",
      "       'assigned_room_type', 'booking_changes', 'deposit_type', 'agent',\n",
      "       'company', 'days_in_waiting_list', 'customer_type', 'adr',\n",
      "       'required_car_parking_spaces', 'total_of_special_requests',\n",
      "       'reservation_status', 'reservation_status_date'],\n",
      "      dtype='object')\n"
     ]
    }
   ],
   "source": [
    "print(dataset.columns)"
   ]
  },
  {
   "cell_type": "code",
   "execution_count": 9,
   "metadata": {},
   "outputs": [
    {
     "data": {
      "text/html": [
       "<div>\n",
       "<style scoped>\n",
       "    .dataframe tbody tr th:only-of-type {\n",
       "        vertical-align: middle;\n",
       "    }\n",
       "\n",
       "    .dataframe tbody tr th {\n",
       "        vertical-align: top;\n",
       "    }\n",
       "\n",
       "    .dataframe thead th {\n",
       "        text-align: right;\n",
       "    }\n",
       "</style>\n",
       "<table border=\"1\" class=\"dataframe\">\n",
       "  <thead>\n",
       "    <tr style=\"text-align: right;\">\n",
       "      <th></th>\n",
       "      <th>stays_in_week_nights</th>\n",
       "      <th>stays_in_weekend_nights</th>\n",
       "      <th>total_stay</th>\n",
       "    </tr>\n",
       "  </thead>\n",
       "  <tbody>\n",
       "    <tr>\n",
       "      <th>0</th>\n",
       "      <td>0</td>\n",
       "      <td>0</td>\n",
       "      <td>0</td>\n",
       "    </tr>\n",
       "    <tr>\n",
       "      <th>1</th>\n",
       "      <td>0</td>\n",
       "      <td>0</td>\n",
       "      <td>0</td>\n",
       "    </tr>\n",
       "    <tr>\n",
       "      <th>2</th>\n",
       "      <td>1</td>\n",
       "      <td>0</td>\n",
       "      <td>1</td>\n",
       "    </tr>\n",
       "    <tr>\n",
       "      <th>3</th>\n",
       "      <td>1</td>\n",
       "      <td>0</td>\n",
       "      <td>1</td>\n",
       "    </tr>\n",
       "    <tr>\n",
       "      <th>4</th>\n",
       "      <td>2</td>\n",
       "      <td>0</td>\n",
       "      <td>2</td>\n",
       "    </tr>\n",
       "  </tbody>\n",
       "</table>\n",
       "</div>"
      ],
      "text/plain": [
       "   stays_in_week_nights  stays_in_weekend_nights  total_stay\n",
       "0                     0                        0           0\n",
       "1                     0                        0           0\n",
       "2                     1                        0           1\n",
       "3                     1                        0           1\n",
       "4                     2                        0           2"
      ]
     },
     "execution_count": 9,
     "metadata": {},
     "output_type": "execute_result"
    }
   ],
   "source": [
    "# Calculate total stay\n",
    "dataset['total_stay'] = dataset['stays_in_week_nights'] + dataset['stays_in_weekend_nights']\n",
    "dataset[['stays_in_week_nights', 'stays_in_weekend_nights', 'total_stay']].head()\n"
   ]
  },
  {
   "cell_type": "code",
   "execution_count": 10,
   "metadata": {},
   "outputs": [
    {
     "data": {
      "text/html": [
       "<div>\n",
       "<style scoped>\n",
       "    .dataframe tbody tr th:only-of-type {\n",
       "        vertical-align: middle;\n",
       "    }\n",
       "\n",
       "    .dataframe tbody tr th {\n",
       "        vertical-align: top;\n",
       "    }\n",
       "\n",
       "    .dataframe thead th {\n",
       "        text-align: right;\n",
       "    }\n",
       "</style>\n",
       "<table border=\"1\" class=\"dataframe\">\n",
       "  <thead>\n",
       "    <tr style=\"text-align: right;\">\n",
       "      <th></th>\n",
       "      <th>adults</th>\n",
       "      <th>children</th>\n",
       "      <th>babies</th>\n",
       "      <th>guests</th>\n",
       "    </tr>\n",
       "  </thead>\n",
       "  <tbody>\n",
       "    <tr>\n",
       "      <th>0</th>\n",
       "      <td>2</td>\n",
       "      <td>0.0</td>\n",
       "      <td>0</td>\n",
       "      <td>2.0</td>\n",
       "    </tr>\n",
       "    <tr>\n",
       "      <th>1</th>\n",
       "      <td>2</td>\n",
       "      <td>0.0</td>\n",
       "      <td>0</td>\n",
       "      <td>2.0</td>\n",
       "    </tr>\n",
       "    <tr>\n",
       "      <th>2</th>\n",
       "      <td>1</td>\n",
       "      <td>0.0</td>\n",
       "      <td>0</td>\n",
       "      <td>1.0</td>\n",
       "    </tr>\n",
       "    <tr>\n",
       "      <th>3</th>\n",
       "      <td>1</td>\n",
       "      <td>0.0</td>\n",
       "      <td>0</td>\n",
       "      <td>1.0</td>\n",
       "    </tr>\n",
       "    <tr>\n",
       "      <th>4</th>\n",
       "      <td>2</td>\n",
       "      <td>0.0</td>\n",
       "      <td>0</td>\n",
       "      <td>2.0</td>\n",
       "    </tr>\n",
       "  </tbody>\n",
       "</table>\n",
       "</div>"
      ],
      "text/plain": [
       "   adults  children  babies  guests\n",
       "0       2       0.0       0     2.0\n",
       "1       2       0.0       0     2.0\n",
       "2       1       0.0       0     1.0\n",
       "3       1       0.0       0     1.0\n",
       "4       2       0.0       0     2.0"
      ]
     },
     "execution_count": 10,
     "metadata": {},
     "output_type": "execute_result"
    }
   ],
   "source": [
    "#  Calculate total guests \n",
    "dataset['guests'] = dataset['adults']+dataset['children'] +dataset['babies']\n",
    "dataset[['adults', 'children', 'babies', 'guests']].head()\n"
   ]
  },
  {
   "cell_type": "code",
   "execution_count": 11,
   "metadata": {},
   "outputs": [
    {
     "data": {
      "text/html": [
       "<div>\n",
       "<style scoped>\n",
       "    .dataframe tbody tr th:only-of-type {\n",
       "        vertical-align: middle;\n",
       "    }\n",
       "\n",
       "    .dataframe tbody tr th {\n",
       "        vertical-align: top;\n",
       "    }\n",
       "\n",
       "    .dataframe thead th {\n",
       "        text-align: right;\n",
       "    }\n",
       "</style>\n",
       "<table border=\"1\" class=\"dataframe\">\n",
       "  <thead>\n",
       "    <tr style=\"text-align: right;\">\n",
       "      <th></th>\n",
       "      <th>reserved_room_type</th>\n",
       "      <th>assigned_room_type</th>\n",
       "      <th>different_room_assigned</th>\n",
       "    </tr>\n",
       "  </thead>\n",
       "  <tbody>\n",
       "    <tr>\n",
       "      <th>0</th>\n",
       "      <td>C</td>\n",
       "      <td>C</td>\n",
       "      <td>0</td>\n",
       "    </tr>\n",
       "    <tr>\n",
       "      <th>1</th>\n",
       "      <td>C</td>\n",
       "      <td>C</td>\n",
       "      <td>0</td>\n",
       "    </tr>\n",
       "    <tr>\n",
       "      <th>2</th>\n",
       "      <td>A</td>\n",
       "      <td>C</td>\n",
       "      <td>1</td>\n",
       "    </tr>\n",
       "    <tr>\n",
       "      <th>3</th>\n",
       "      <td>A</td>\n",
       "      <td>A</td>\n",
       "      <td>0</td>\n",
       "    </tr>\n",
       "    <tr>\n",
       "      <th>4</th>\n",
       "      <td>A</td>\n",
       "      <td>A</td>\n",
       "      <td>0</td>\n",
       "    </tr>\n",
       "  </tbody>\n",
       "</table>\n",
       "</div>"
      ],
      "text/plain": [
       "  reserved_room_type assigned_room_type  different_room_assigned\n",
       "0                  C                  C                        0\n",
       "1                  C                  C                        0\n",
       "2                  A                  C                        1\n",
       "3                  A                  A                        0\n",
       "4                  A                  A                        0"
      ]
     },
     "execution_count": 11,
     "metadata": {},
     "output_type": "execute_result"
    }
   ],
   "source": [
    "# Check whether new room is assigned \n",
    "dataset['different_room_assigned']=0\n",
    "slice_indices = dataset['reserved_room_type']!=dataset['assigned_room_type']\n",
    "dataset.loc[slice_indices,'different_room_assigned']=1\n",
    "dataset[['reserved_room_type', 'assigned_room_type', 'different_room_assigned']].head()\n"
   ]
  },
  {
   "cell_type": "code",
   "execution_count": 12,
   "metadata": {},
   "outputs": [
    {
     "name": "stdout",
     "output_type": "stream",
     "text": [
      "Index(['hotel', 'is_canceled', 'lead_time', 'arrival_date_year',\n",
      "       'arrival_date_month', 'arrival_date_week_number',\n",
      "       'arrival_date_day_of_month', 'meal', 'country', 'market_segment',\n",
      "       'distribution_channel', 'is_repeated_guest', 'previous_cancellations',\n",
      "       'previous_bookings_not_canceled', 'booking_changes', 'deposit_type',\n",
      "       'agent', 'company', 'days_in_waiting_list', 'customer_type', 'adr',\n",
      "       'required_car_parking_spaces', 'total_of_special_requests',\n",
      "       'reservation_status', 'reservation_status_date', 'total_stay', 'guests',\n",
      "       'different_room_assigned'],\n",
      "      dtype='object')\n"
     ]
    }
   ],
   "source": [
    "# Remove attributes used to create new attribute \n",
    "dataset = dataset.drop(['stays_in_week_nights','stays_in_weekend_nights','adults','children','babies','reserved_room_type','assigned_room_type'],axis=1)\n",
    "print(dataset.columns)\n"
   ]
  },
  {
   "cell_type": "code",
   "execution_count": 13,
   "metadata": {},
   "outputs": [
    {
     "name": "stdout",
     "output_type": "stream",
     "text": [
      "hotel                                  0\n",
      "is_canceled                            0\n",
      "lead_time                              0\n",
      "arrival_date_year                      0\n",
      "arrival_date_month                     0\n",
      "arrival_date_week_number               0\n",
      "arrival_date_day_of_month              0\n",
      "meal                                   0\n",
      "country                              488\n",
      "market_segment                         0\n",
      "distribution_channel                   0\n",
      "is_repeated_guest                      0\n",
      "previous_cancellations                 0\n",
      "previous_bookings_not_canceled         0\n",
      "booking_changes                        0\n",
      "deposit_type                           0\n",
      "agent                              16340\n",
      "company                           112593\n",
      "days_in_waiting_list                   0\n",
      "customer_type                          0\n",
      "adr                                    0\n",
      "required_car_parking_spaces            0\n",
      "total_of_special_requests              0\n",
      "reservation_status                     0\n",
      "reservation_status_date                0\n",
      "total_stay                             0\n",
      "guests                                 4\n",
      "different_room_assigned                0\n",
      "dtype: int64\n",
      "(119390, 28)\n"
     ]
    }
   ],
   "source": [
    "# Check missings\n",
    "print(dataset.isnull().sum()) # country, agent, and company have 488,16340,and 112593 missing values respectively\n",
    "print(dataset.shape)\n"
   ]
  },
  {
   "cell_type": "code",
   "execution_count": 14,
   "metadata": {},
   "outputs": [
    {
     "name": "stdout",
     "output_type": "stream",
     "text": [
      "(119390, 26)\n"
     ]
    }
   ],
   "source": [
    "# Remove agent and company that have many missings \n",
    "dataset = dataset.drop(['agent', 'company'], axis=1)\n",
    "print(dataset.shape) \n"
   ]
  },
  {
   "cell_type": "code",
   "execution_count": 15,
   "metadata": {},
   "outputs": [],
   "source": [
    "# Replace country's missing values with most frequent values \n",
    "dataset['country'] = dataset['country'].fillna(dataset['country'].mode()[0])\n"
   ]
  },
  {
   "cell_type": "code",
   "execution_count": null,
   "metadata": {},
   "outputs": [],
   "source": []
  },
  {
   "cell_type": "code",
   "execution_count": 16,
   "metadata": {},
   "outputs": [
    {
     "name": "stdout",
     "output_type": "stream",
     "text": [
      "(119390, 21)\n"
     ]
    }
   ],
   "source": [
    "# Remove useless attributes for analysis \n",
    "dataset = dataset.drop(['reservation_status', 'reservation_status_date'], axis=1)\n",
    "dataset = dataset.drop(['arrival_date_year', 'arrival_date_day_of_month'], axis=1)\n",
    "dataset = dataset.drop(['distribution_channel'], axis=1)\n",
    "print(dataset.shape)\n"
   ]
  },
  {
   "cell_type": "code",
   "execution_count": 17,
   "metadata": {},
   "outputs": [],
   "source": [
    "# Change 1 to True and 0 to False\n",
    "dataset['different_room_assigned'] = dataset['different_room_assigned'].replace(1, True)\n",
    "dataset['different_room_assigned'] = dataset['different_room_assigned'].replace(0, False)\n",
    "dataset['is_canceled'] = dataset['is_canceled'].replace(1, True)\n",
    "dataset['is_canceled'] = dataset['is_canceled'].replace(0, False)\n"
   ]
  },
  {
   "cell_type": "code",
   "execution_count": 18,
   "metadata": {},
   "outputs": [
    {
     "name": "stdout",
     "output_type": "stream",
     "text": [
      "Index(['hotel', 'is_canceled', 'lead_time', 'arrival_date_month',\n",
      "       'arrival_date_week_number', 'meal', 'country', 'market_segment',\n",
      "       'is_repeated_guest', 'previous_cancellations',\n",
      "       'previous_bookings_not_canceled', 'booking_changes', 'deposit_type',\n",
      "       'days_in_waiting_list', 'customer_type', 'adr',\n",
      "       'required_car_parking_spaces', 'total_of_special_requests',\n",
      "       'total_stay', 'guests', 'different_room_assigned'],\n",
      "      dtype='object')\n",
      "(119386, 21)\n",
      "          hotel  is_canceled  lead_time arrival_date_month  \\\n",
      "0  Resort Hotel        False        342               July   \n",
      "1  Resort Hotel        False        737               July   \n",
      "2  Resort Hotel        False          7               July   \n",
      "3  Resort Hotel        False         13               July   \n",
      "4  Resort Hotel        False         14               July   \n",
      "\n",
      "   arrival_date_week_number meal country market_segment  is_repeated_guest  \\\n",
      "0                        27   BB     PRT         Direct                  0   \n",
      "1                        27   BB     PRT         Direct                  0   \n",
      "2                        27   BB     GBR         Direct                  0   \n",
      "3                        27   BB     GBR      Corporate                  0   \n",
      "4                        27   BB     GBR      Online TA                  0   \n",
      "\n",
      "   previous_cancellations  ...  booking_changes  deposit_type  \\\n",
      "0                       0  ...                3    No Deposit   \n",
      "1                       0  ...                4    No Deposit   \n",
      "2                       0  ...                0    No Deposit   \n",
      "3                       0  ...                0    No Deposit   \n",
      "4                       0  ...                0    No Deposit   \n",
      "\n",
      "  days_in_waiting_list  customer_type   adr  required_car_parking_spaces  \\\n",
      "0                    0      Transient   0.0                            0   \n",
      "1                    0      Transient   0.0                            0   \n",
      "2                    0      Transient  75.0                            0   \n",
      "3                    0      Transient  75.0                            0   \n",
      "4                    0      Transient  98.0                            0   \n",
      "\n",
      "   total_of_special_requests  total_stay  guests  different_room_assigned  \n",
      "0                          0           0     2.0                    False  \n",
      "1                          0           0     2.0                    False  \n",
      "2                          0           1     1.0                     True  \n",
      "3                          0           1     1.0                    False  \n",
      "4                          1           2     2.0                    False  \n",
      "\n",
      "[5 rows x 21 columns]\n"
     ]
    }
   ],
   "source": [
    "# Remove examples that have missings \n",
    "dataset.dropna(inplace=True)\n",
    "print(dataset.columns)\n",
    "print(dataset.shape)\n",
    "print(dataset.head())\n"
   ]
  },
  {
   "cell_type": "code",
   "execution_count": 19,
   "metadata": {},
   "outputs": [
    {
     "name": "stdout",
     "output_type": "stream",
     "text": [
      "deposit_type  is_canceled\n",
      "No Deposit    False          74947\n",
      "              True           29690\n",
      "Non Refund    False             93\n",
      "              True           14494\n",
      "Refundable    False            126\n",
      "              True              36\n",
      "Name: hotel, dtype: int64\n"
     ]
    }
   ],
   "source": [
    "# Check number of examples by 'deposit_type' and 'is_canceled'\n",
    "rs = dataset.groupby(['deposit_type','is_canceled']).count()\n",
    "print(rs['hotel'])\n"
   ]
  },
  {
   "cell_type": "code",
   "execution_count": 54,
   "metadata": {},
   "outputs": [
    {
     "name": "stdout",
     "output_type": "stream",
     "text": [
      "635.954\n"
     ]
    }
   ],
   "source": [
    "# Expected count without no condition\n",
    "counts_sum=0\n",
    "for i in range(1,10000):\n",
    "     counts_i = 0\n",
    "     # 데이터셋에서 1000개의 행을 랜덤 샘플링한다.\n",
    "     rdf = dataset.sample(1000)\n",
    "     # is_candeled TRUE, different_room_assigned TRUE인 행들의 개수를 셈\n",
    "     counts_i = rdf[rdf[\"is_canceled\"]==rdf[\"different_room_assigned\"] & (rdf['is_canceled']==True)].shape[0]\n",
    "     # 1000회 반복하면서, 총 몇개의 행들이 같은지 더함  \n",
    "     counts_sum+= counts_i\n",
    "print(counts_sum/10000)\n",
    "\n"
   ]
  },
  {
   "cell_type": "code",
   "execution_count": 55,
   "metadata": {},
   "outputs": [
    {
     "name": "stdout",
     "output_type": "stream",
     "text": [
      "595.9591\n"
     ]
    }
   ],
   "source": [
    "# Expected count when there are no booking changes\n",
    "counts_sum=0\n",
    "for i in range(1,10000):\n",
    "     counts_i = 0\n",
    "     # 조건을 건 후 1000번을 랜덤 샘플링을 함\n",
    "     rdf = dataset[dataset[\"booking_changes\"]==0].sample(1000)\n",
    "     counts_i = rdf[rdf[\"is_canceled\"]== rdf[\"different_room_assigned\"] & (rdf['is_canceled']==True)].shape[0]\n",
    "     counts_sum+= counts_i\n",
    "print(counts_sum/10000)\n"
   ]
  },
  {
   "cell_type": "code",
   "execution_count": 56,
   "metadata": {},
   "outputs": [
    {
     "name": "stdout",
     "output_type": "stream",
     "text": [
      "663.6085\n"
     ]
    }
   ],
   "source": [
    "# Expected Count when there are booking changes = 66.4%\n",
    "counts_sum=0\n",
    "for i in range(1,10000):\n",
    "    counts_i = 0\n",
    "    rdf = dataset[dataset[\"booking_changes\"]>0].sample(1000)\n",
    "    counts_i = rdf[rdf[\"is_canceled\"]== rdf[\"different_room_assigned\"]].shape[0]\n",
    "    counts_sum+= counts_i\n",
    "print(counts_sum/10000)"
   ]
  },
  {
   "cell_type": "code",
   "execution_count": null,
   "metadata": {},
   "outputs": [],
   "source": [
    "rs2=dataset[dataset[\"booking_changes\"]==0]\n",
    "rs2.groupby(['is_canceled','different_room_assigned']).count()"
   ]
  },
  {
   "cell_type": "code",
   "execution_count": 36,
   "metadata": {},
   "outputs": [
    {
     "name": "stdout",
     "output_type": "stream",
     "text": [
      "636.1293\n"
     ]
    }
   ],
   "source": [
    "#TRY IF is_cancelled=TRUE, diff room assigned =TRUE\n",
    "counts_sum=0\n",
    "for i in range(1,10000):\n",
    "     counts_i = 0\n",
    "     # 조건을 건 후 1000번을 랜덤 샘플링을 함\n",
    "     rdf = dataset[dataset[\"is_canceled\"]==True].sample(1000)\n",
    "     counts_i = rdf[rdf[\"is_canceled\"]== rdf[\"different_room_assigned\"]].shape[0]\n",
    "     counts_sum+= counts_i\n",
    "print(counts_sum/10000)\n",
    "\n",
    "#TRY IF is_cancelled=TRUE, diff room assigned =TRUE\n",
    "counts_sum=0\n",
    "for i in range(1,10000):\n",
    "     counts_i = 0\n",
    "     # 조건을 건 후 1000번을 랜덤 샘플링을 함\n",
    "     rdf = dataset.sample(1000)\n",
    "     counts_i = rdf[rdf[\"is_canceled\"]== rdf[\"different_room_assigned\"] & (rdf[\"is_canceled\"]==True)].shape[0]\n",
    "     counts_sum+= counts_i\n",
    "print(counts_sum/10000)\n",
    "\n",
    "#TRY Counting IF is_cancelled=TRUE\n",
    "counts_sum=0\n",
    "for i in range(1,10000):\n",
    "     counts_i = 0\n",
    "     # 조건을 건 후 1000번을 랜덤 샘플링을 함\n",
    "     rdf = dataset.sample(1000)\n",
    "     counts_i = rdf[rdf[\"is_canceled\"]==True].shape[0]\n",
    "     counts_sum+= counts_i\n",
    "print(counts_sum/10000)\n",
    "\n",
    "#TRY Counting IF diff room assigned =TRUE,  is_cancelled=TRUE\n",
    "counts_sum=0\n",
    "for i in range(1,10000):\n",
    "     counts_i = 0\n",
    "     # 조건을 건 후 1000번을 랜덤 샘플링을 함\n",
    "     rdf = dataset[dataset[\"different_room_assigned\"]==True].sample(1000)\n",
    "     counts_i = rdf[rdf[\"is_canceled\"]==True].shape[0]\n",
    "     counts_sum+= counts_i\n",
    "print(counts_sum/10000)\n",
    "\n",
    "#TRY Counting IF diff room assigned =False,  is_cancelled=TRUE\n",
    "counts_sum=0\n",
    "for i in range(1,10000):\n",
    "     counts_i = 0\n",
    "     # 조건을 건 후 1000번을 랜덤 샘플링을 함\n",
    "     rdf = dataset[dataset[\"different_room_assigned\"]==False].sample(1000)\n",
    "     counts_i = rdf[rdf[\"is_canceled\"]==True].shape[0]\n",
    "     counts_sum+= counts_i\n",
    "print(counts_sum/10000)"
   ]
  },
  {
   "cell_type": "code",
   "execution_count": 27,
   "metadata": {},
   "outputs": [],
   "source": [
    "import pygraphviz\n",
    "causal_graph = \"\"\"digraph {\n",
    "different_room_assigned[label=\"Different Room Assigned\"];\n",
    "is_canceled[label=\"Booking Cancelled\"];\n",
    "booking_changes[label=\"Booking Changes\"];\n",
    "previous_bookings_not_canceled[label=\"Previous Booking Retentions\"];\n",
    "days_in_waiting_list[label=\"Days in Waitlist\"];\n",
    "lead_time[label=\"Lead Time\"];\n",
    "market_segment[label=\"Market Segment\"];\n",
    "country[label=\"Country\"];\n",
    "U[label=\"Unobserved Confounders\",observed=\"no\"];\n",
    "is_repeated_guest;\n",
    "total_stay;\n",
    "guests;\n",
    "meal;\n",
    "hotel;\n",
    "U->{different_room_assigned,required_car_parking_spaces,guests,total_stay,total_of_special_requests};\n",
    "market_segment -> lead_time;\n",
    "lead_time->is_canceled; country -> lead_time;\n",
    "different_room_assigned -> is_canceled;\n",
    "country->meal;\n",
    "lead_time -> days_in_waiting_list;\n",
    "days_in_waiting_list ->{is_canceled,different_room_assigned};\n",
    "previous_bookings_not_canceled -> is_canceled;\n",
    "previous_bookings_not_canceled -> is_repeated_guest;\n",
    "is_repeated_guest -> {different_room_assigned,is_canceled};\n",
    "total_stay -> is_canceled;\n",
    "guests -> is_canceled;\n",
    "booking_changes -> different_room_assigned; booking_changes -> is_canceled;\n",
    "hotel -> {different_room_assigned,is_canceled};\n",
    "required_car_parking_spaces -> is_canceled;\n",
    "total_of_special_requests -> {booking_changes,is_canceled};\n",
    "country->{hotel, required_car_parking_spaces,total_of_special_requests};\n",
    "market_segment->{hotel, required_car_parking_spaces,total_of_special_requests};\n",
    "}\"\"\"\n"
   ]
  },
  {
   "cell_type": "code",
   "execution_count": 28,
   "metadata": {},
   "outputs": [
    {
     "data": {
      "image/png": "[encoded data removed]",
      "text/plain": [
       "<IPython.core.display.Image object>"
      ]
     },
     "metadata": {},
     "output_type": "display_data"
    }
   ],
   "source": [
    "model = dowhy.CausalModel(\n",
    "    data = dataset,\n",
    "    graph=causal_graph.replace(\"\\n\", \" \"),\n",
    "    treatment='different_room_assigned',\n",
    "    outcome='is_canceled')\n",
    "model.view_model(size=(16, 12))\n",
    "from IPython.display import Image, display\n",
    "display(Image(filename=\"causal_model.png\"))\n"
   ]
  },
  {
   "cell_type": "code",
   "execution_count": 29,
   "metadata": {},
   "outputs": [
    {
     "name": "stdout",
     "output_type": "stream",
     "text": [
      "Estimand type: EstimandType.NONPARAMETRIC_ATE\n",
      "\n",
      "### Estimand : 1\n",
      "Estimand name: backdoor\n",
      "Estimand expression:\n",
      "            d                                                                 \n",
      "──────────────────────────(E[is_canceled|days_in_waiting_list,total_stay,requi\n",
      "d[different_room_assigned]                                                    \n",
      "\n",
      "                                                                              \n",
      "red_car_parking_spaces,hotel,total_of_special_requests,guests,is_repeated_gues\n",
      "                                                                              \n",
      "\n",
      "                             \n",
      "t,booking_changes,lead_time])\n",
      "                             \n",
      "Estimand assumption 1, Unconfoundedness: If U→{different_room_assigned} and U→is_canceled then P(is_canceled|different_room_assigned,days_in_waiting_list,total_stay,required_car_parking_spaces,hotel,total_of_special_requests,guests,is_repeated_guest,booking_changes,lead_time,U) = P(is_canceled|different_room_assigned,days_in_waiting_list,total_stay,required_car_parking_spaces,hotel,total_of_special_requests,guests,is_repeated_guest,booking_changes,lead_time)\n",
      "\n",
      "### Estimand : 2\n",
      "Estimand name: iv\n",
      "No such variable(s) found!\n",
      "\n",
      "### Estimand : 3\n",
      "Estimand name: frontdoor\n",
      "No such variable(s) found!\n",
      "\n"
     ]
    }
   ],
   "source": [
    "#Identify the causal effect\n",
    "identified_estimand = model.identify_effect(proceed_when_unidentifiable=True)\n",
    "print(identified_estimand)\n"
   ]
  },
  {
   "cell_type": "code",
   "execution_count": 30,
   "metadata": {},
   "outputs": [
    {
     "name": "stdout",
     "output_type": "stream",
     "text": [
      "*** Causal Estimate ***\n",
      "\n",
      "## Identified estimand\n",
      "Estimand type: EstimandType.NONPARAMETRIC_ATE\n",
      "\n",
      "### Estimand : 1\n",
      "Estimand name: backdoor\n",
      "Estimand expression:\n",
      "            d                                                                 \n",
      "──────────────────────────(E[is_canceled|days_in_waiting_list,total_stay,requi\n",
      "d[different_room_assigned]                                                    \n",
      "\n",
      "                                                                              \n",
      "red_car_parking_spaces,hotel,total_of_special_requests,guests,is_repeated_gues\n",
      "                                                                              \n",
      "\n",
      "                             \n",
      "t,booking_changes,lead_time])\n",
      "                             \n",
      "Estimand assumption 1, Unconfoundedness: If U→{different_room_assigned} and U→is_canceled then P(is_canceled|different_room_assigned,days_in_waiting_list,total_stay,required_car_parking_spaces,hotel,total_of_special_requests,guests,is_repeated_guest,booking_changes,lead_time,U) = P(is_canceled|different_room_assigned,days_in_waiting_list,total_stay,required_car_parking_spaces,hotel,total_of_special_requests,guests,is_repeated_guest,booking_changes,lead_time)\n",
      "\n",
      "## Realized estimand\n",
      "b: is_canceled~different_room_assigned+days_in_waiting_list+total_stay+required_car_parking_spaces+hotel+total_of_special_requests+guests+is_repeated_guest+booking_changes+lead_time\n",
      "Target units: ate\n",
      "\n",
      "## Estimate\n",
      "Mean value: -0.34483085299433924\n",
      "\n"
     ]
    }
   ],
   "source": [
    "estimate = model.estimate_effect(identified_estimand, method_name=\"backdoor.propensity_score_weighting\",target_units=\"ate\")\n",
    "print(estimate)\n"
   ]
  },
  {
   "cell_type": "code",
   "execution_count": 31,
   "metadata": {},
   "outputs": [
    {
     "name": "stdout",
     "output_type": "stream",
     "text": [
      "Refute: Add a random common cause\n",
      "Estimated effect:-0.34483085299433924\n",
      "New effect:-0.3448308529943393\n",
      "p value:2.0\n",
      "\n"
     ]
    }
   ],
   "source": [
    "refute1_results=model.refute_estimate(identified_estimand, estimate, method_name=\"random_common_cause\")\n",
    "print(refute1_results)\n"
   ]
  },
  {
   "cell_type": "code",
   "execution_count": 32,
   "metadata": {},
   "outputs": [
    {
     "name": "stdout",
     "output_type": "stream",
     "text": [
      "Refute: Use a Placebo Treatment\n",
      "Estimated effect:-0.34483085299433924\n",
      "New effect:0.09364898133708036\n",
      "p value:0.0\n",
      "\n"
     ]
    }
   ],
   "source": [
    "refute2_results=model.refute_estimate(identified_estimand, estimate, method_name=\"placebo_treatment_refuter\")\n",
    "print(refute2_results)\n"
   ]
  },
  {
   "cell_type": "code",
   "execution_count": 33,
   "metadata": {},
   "outputs": [
    {
     "name": "stdout",
     "output_type": "stream",
     "text": [
      "Refute: Use a subset of data\n",
      "Estimated effect:-0.34483085299433924\n",
      "New effect:-0.34474558699317265\n",
      "p value:0.94\n",
      "\n"
     ]
    }
   ],
   "source": [
    "refute3_results=model.refute_estimate(identified_estimand, estimate, method_name=\"data_subset_refuter\")\n",
    "print(refute3_results)\n"
   ]
  },
  {
   "cell_type": "code",
   "execution_count": null,
   "metadata": {},
   "outputs": [],
   "source": []
  }
 ],
 "metadata": {
  "kernelspec": {
   "display_name": ".venv",
   "language": "python",
   "name": "python3"
  },
  "language_info": {
   "codemirror_mode": {
    "name": "ipython",
    "version": 3
   },
   "file_extension": ".py",
   "mimetype": "text/x-python",
   "name": "python",
   "nbconvert_exporter": "python",
   "pygments_lexer": "ipython3",
   "version": "3.10.6"
  },
  "orig_nbformat": 4,
  "vscode": {
   "interpreter": {
    "hash": "4ea0c9128981f411fa91656351f13385e2e60e655162b94d3ad690d18fff6898"
   }
  }
 },
 "nbformat": 4,
 "nbformat_minor": 2
}
